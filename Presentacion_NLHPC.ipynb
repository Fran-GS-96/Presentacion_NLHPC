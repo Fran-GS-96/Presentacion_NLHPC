{
 "cells": [
  {
   "cell_type": "markdown",
   "id": "de314a8b-fcae-4e0d-93a8-74ed5dd31735",
   "metadata": {},
   "source": [
    "# Paquetes"
   ]
  },
  {
   "cell_type": "code",
   "execution_count": 130,
   "id": "4f7d86c5-a21f-4596-b510-77f8988bb4ef",
   "metadata": {},
   "outputs": [],
   "source": [
    "import os\n",
    "import pandas as pd\n",
    "import numpy as np\n",
    "\n",
    "from sklearn.model_selection import train_test_split\n",
    "#from sklearn.preprocessing import StandardScaler\n",
    "\n",
    "import tensorflow as tf"
   ]
  },
  {
   "cell_type": "markdown",
   "id": "d5374025-e3d8-4646-beee-2e253d3b5922",
   "metadata": {
    "tags": []
   },
   "source": [
    "# Visualizacion previa de datos"
   ]
  },
  {
   "cell_type": "code",
   "execution_count": 2,
   "id": "f75211f6-3393-4a42-a091-69c0833ba8c5",
   "metadata": {},
   "outputs": [],
   "source": [
    "path = os.getcwd()"
   ]
  },
  {
   "cell_type": "code",
   "execution_count": 74,
   "id": "825af3b5-9360-43c9-b03f-d781e8afa034",
   "metadata": {},
   "outputs": [],
   "source": [
    "c_df = pd.read_csv(os.path.join(path, 'Datos', 'Data_Coyhaique.csv'), index_col = [0])\n",
    "c_df = c_df.set_index(pd.to_datetime(c_df.index))"
   ]
  },
  {
   "cell_type": "code",
   "execution_count": 75,
   "id": "0171cf5a-49e5-467e-ba2b-89bfcacc8591",
   "metadata": {},
   "outputs": [
    {
     "data": {
      "text/plain": [
       "Presion        0.264085\n",
       "Temperatura    0.310544\n",
       "HR             0.308099\n",
       "RapViento      0.408353\n",
       "O3             8.514280\n",
       "CO             8.560739\n",
       "PM25           1.978189\n",
       "PM10           1.672535\n",
       "SO2            2.616393\n",
       "DoY            0.000000\n",
       "DoW            0.000000\n",
       "dtype: float64"
      ]
     },
     "execution_count": 75,
     "metadata": {},
     "output_type": "execute_result"
    }
   ],
   "source": [
    "c_df.isna().sum()/len(c_df)*100"
   ]
  },
  {
   "cell_type": "code",
   "execution_count": 76,
   "id": "6f4e7385-f718-4933-8610-fc2bbe13d5cb",
   "metadata": {},
   "outputs": [],
   "source": [
    "c_df = c_df.fillna(value = c_df.mean())"
   ]
  },
  {
   "cell_type": "code",
   "execution_count": 77,
   "id": "4ecc1a25-0cfe-451d-a0b5-c4319f74292c",
   "metadata": {},
   "outputs": [],
   "source": [
    "c_df_mean = c_df.resample('D',kind = 'timestamp').mean()"
   ]
  },
  {
   "cell_type": "code",
   "execution_count": 78,
   "id": "f08bdef2-4356-452b-9de9-d97b8d0f16b7",
   "metadata": {},
   "outputs": [
    {
     "data": {
      "text/html": [
       "<div>\n",
       "<style scoped>\n",
       "    .dataframe tbody tr th:only-of-type {\n",
       "        vertical-align: middle;\n",
       "    }\n",
       "\n",
       "    .dataframe tbody tr th {\n",
       "        vertical-align: top;\n",
       "    }\n",
       "\n",
       "    .dataframe thead th {\n",
       "        text-align: right;\n",
       "    }\n",
       "</style>\n",
       "<table border=\"1\" class=\"dataframe\">\n",
       "  <thead>\n",
       "    <tr style=\"text-align: right;\">\n",
       "      <th></th>\n",
       "      <th>Presion</th>\n",
       "      <th>Temperatura</th>\n",
       "      <th>HR</th>\n",
       "      <th>RapViento</th>\n",
       "      <th>O3</th>\n",
       "      <th>CO</th>\n",
       "      <th>PM25</th>\n",
       "      <th>PM10</th>\n",
       "      <th>SO2</th>\n",
       "      <th>DoY</th>\n",
       "      <th>DoW</th>\n",
       "    </tr>\n",
       "  </thead>\n",
       "  <tbody>\n",
       "    <tr>\n",
       "      <th>2018-01-01</th>\n",
       "      <td>969.583333</td>\n",
       "      <td>9.612501</td>\n",
       "      <td>67.875000</td>\n",
       "      <td>4.754167</td>\n",
       "      <td>11.375849</td>\n",
       "      <td>0.796953</td>\n",
       "      <td>11.583333</td>\n",
       "      <td>16.000000</td>\n",
       "      <td>2.342500</td>\n",
       "      <td>1.0</td>\n",
       "      <td>1.0</td>\n",
       "    </tr>\n",
       "    <tr>\n",
       "      <th>2018-01-02</th>\n",
       "      <td>964.333333</td>\n",
       "      <td>12.633333</td>\n",
       "      <td>67.291667</td>\n",
       "      <td>4.462500</td>\n",
       "      <td>11.375849</td>\n",
       "      <td>0.796953</td>\n",
       "      <td>8.875000</td>\n",
       "      <td>12.666667</td>\n",
       "      <td>2.283333</td>\n",
       "      <td>2.0</td>\n",
       "      <td>2.0</td>\n",
       "    </tr>\n",
       "    <tr>\n",
       "      <th>2018-01-03</th>\n",
       "      <td>956.333333</td>\n",
       "      <td>11.683333</td>\n",
       "      <td>64.875000</td>\n",
       "      <td>4.008333</td>\n",
       "      <td>11.375849</td>\n",
       "      <td>0.796953</td>\n",
       "      <td>11.750000</td>\n",
       "      <td>17.041667</td>\n",
       "      <td>2.405000</td>\n",
       "      <td>3.0</td>\n",
       "      <td>3.0</td>\n",
       "    </tr>\n",
       "    <tr>\n",
       "      <th>2018-01-04</th>\n",
       "      <td>956.958333</td>\n",
       "      <td>8.708333</td>\n",
       "      <td>69.166667</td>\n",
       "      <td>3.712500</td>\n",
       "      <td>11.375849</td>\n",
       "      <td>0.796953</td>\n",
       "      <td>15.449413</td>\n",
       "      <td>20.952188</td>\n",
       "      <td>2.277917</td>\n",
       "      <td>4.0</td>\n",
       "      <td>4.0</td>\n",
       "    </tr>\n",
       "    <tr>\n",
       "      <th>2018-01-05</th>\n",
       "      <td>970.916667</td>\n",
       "      <td>10.137500</td>\n",
       "      <td>60.666667</td>\n",
       "      <td>5.525000</td>\n",
       "      <td>11.375849</td>\n",
       "      <td>0.796953</td>\n",
       "      <td>9.833333</td>\n",
       "      <td>17.125000</td>\n",
       "      <td>1.572500</td>\n",
       "      <td>5.0</td>\n",
       "      <td>5.0</td>\n",
       "    </tr>\n",
       "    <tr>\n",
       "      <th>...</th>\n",
       "      <td>...</td>\n",
       "      <td>...</td>\n",
       "      <td>...</td>\n",
       "      <td>...</td>\n",
       "      <td>...</td>\n",
       "      <td>...</td>\n",
       "      <td>...</td>\n",
       "      <td>...</td>\n",
       "      <td>...</td>\n",
       "      <td>...</td>\n",
       "      <td>...</td>\n",
       "    </tr>\n",
       "    <tr>\n",
       "      <th>2022-08-27</th>\n",
       "      <td>981.298417</td>\n",
       "      <td>3.674328</td>\n",
       "      <td>58.290054</td>\n",
       "      <td>4.231699</td>\n",
       "      <td>12.083333</td>\n",
       "      <td>0.773333</td>\n",
       "      <td>37.083333</td>\n",
       "      <td>38.250000</td>\n",
       "      <td>1.594583</td>\n",
       "      <td>239.0</td>\n",
       "      <td>6.0</td>\n",
       "    </tr>\n",
       "    <tr>\n",
       "      <th>2022-08-28</th>\n",
       "      <td>983.387333</td>\n",
       "      <td>4.749944</td>\n",
       "      <td>61.044546</td>\n",
       "      <td>1.321621</td>\n",
       "      <td>10.208333</td>\n",
       "      <td>1.049583</td>\n",
       "      <td>59.291667</td>\n",
       "      <td>60.541667</td>\n",
       "      <td>1.615417</td>\n",
       "      <td>240.0</td>\n",
       "      <td>7.0</td>\n",
       "    </tr>\n",
       "    <tr>\n",
       "      <th>2022-08-29</th>\n",
       "      <td>973.471458</td>\n",
       "      <td>4.198099</td>\n",
       "      <td>59.810979</td>\n",
       "      <td>0.878979</td>\n",
       "      <td>5.083333</td>\n",
       "      <td>1.662083</td>\n",
       "      <td>100.125000</td>\n",
       "      <td>104.375000</td>\n",
       "      <td>2.050417</td>\n",
       "      <td>241.0</td>\n",
       "      <td>1.0</td>\n",
       "    </tr>\n",
       "    <tr>\n",
       "      <th>2022-08-30</th>\n",
       "      <td>972.757625</td>\n",
       "      <td>7.101256</td>\n",
       "      <td>68.694246</td>\n",
       "      <td>1.392455</td>\n",
       "      <td>8.250000</td>\n",
       "      <td>0.639167</td>\n",
       "      <td>27.416667</td>\n",
       "      <td>29.791667</td>\n",
       "      <td>1.762917</td>\n",
       "      <td>242.0</td>\n",
       "      <td>2.0</td>\n",
       "    </tr>\n",
       "    <tr>\n",
       "      <th>2022-08-31</th>\n",
       "      <td>972.673125</td>\n",
       "      <td>6.662520</td>\n",
       "      <td>70.505308</td>\n",
       "      <td>2.661606</td>\n",
       "      <td>10.208333</td>\n",
       "      <td>0.696250</td>\n",
       "      <td>29.958333</td>\n",
       "      <td>33.166667</td>\n",
       "      <td>1.745833</td>\n",
       "      <td>243.0</td>\n",
       "      <td>3.0</td>\n",
       "    </tr>\n",
       "  </tbody>\n",
       "</table>\n",
       "<p>1704 rows × 11 columns</p>\n",
       "</div>"
      ],
      "text/plain": [
       "               Presion  Temperatura         HR  RapViento         O3  \\\n",
       "2018-01-01  969.583333     9.612501  67.875000   4.754167  11.375849   \n",
       "2018-01-02  964.333333    12.633333  67.291667   4.462500  11.375849   \n",
       "2018-01-03  956.333333    11.683333  64.875000   4.008333  11.375849   \n",
       "2018-01-04  956.958333     8.708333  69.166667   3.712500  11.375849   \n",
       "2018-01-05  970.916667    10.137500  60.666667   5.525000  11.375849   \n",
       "...                ...          ...        ...        ...        ...   \n",
       "2022-08-27  981.298417     3.674328  58.290054   4.231699  12.083333   \n",
       "2022-08-28  983.387333     4.749944  61.044546   1.321621  10.208333   \n",
       "2022-08-29  973.471458     4.198099  59.810979   0.878979   5.083333   \n",
       "2022-08-30  972.757625     7.101256  68.694246   1.392455   8.250000   \n",
       "2022-08-31  972.673125     6.662520  70.505308   2.661606  10.208333   \n",
       "\n",
       "                  CO        PM25        PM10       SO2    DoY  DoW  \n",
       "2018-01-01  0.796953   11.583333   16.000000  2.342500    1.0  1.0  \n",
       "2018-01-02  0.796953    8.875000   12.666667  2.283333    2.0  2.0  \n",
       "2018-01-03  0.796953   11.750000   17.041667  2.405000    3.0  3.0  \n",
       "2018-01-04  0.796953   15.449413   20.952188  2.277917    4.0  4.0  \n",
       "2018-01-05  0.796953    9.833333   17.125000  1.572500    5.0  5.0  \n",
       "...              ...         ...         ...       ...    ...  ...  \n",
       "2022-08-27  0.773333   37.083333   38.250000  1.594583  239.0  6.0  \n",
       "2022-08-28  1.049583   59.291667   60.541667  1.615417  240.0  7.0  \n",
       "2022-08-29  1.662083  100.125000  104.375000  2.050417  241.0  1.0  \n",
       "2022-08-30  0.639167   27.416667   29.791667  1.762917  242.0  2.0  \n",
       "2022-08-31  0.696250   29.958333   33.166667  1.745833  243.0  3.0  \n",
       "\n",
       "[1704 rows x 11 columns]"
      ]
     },
     "execution_count": 78,
     "metadata": {},
     "output_type": "execute_result"
    }
   ],
   "source": [
    "c_df_mean"
   ]
  },
  {
   "cell_type": "code",
   "execution_count": 81,
   "id": "b31e83a2-562a-40a8-9005-077b23212215",
   "metadata": {},
   "outputs": [
    {
     "data": {
      "image/png": "[encoded data removed]",
      "text/plain": [
       "<Figure size 1132.62x700 with 16 Axes>"
      ]
     },
     "metadata": {},
     "output_type": "display_data"
    }
   ],
   "source": [
    "c_df_mean.plot(subplots = True, layout = (4,4), figsize = (7*(1+np.sqrt(5))/2,7), rot=45);"
   ]
  },
  {
   "cell_type": "markdown",
   "id": "097e9994-8be9-4fbf-9cec-59d51d0ddb83",
   "metadata": {},
   "source": [
    "# Separación de datos"
   ]
  },
  {
   "cell_type": "code",
   "execution_count": 124,
   "id": "aa3d62d4-6530-45ca-aa4e-fbdd9a391d78",
   "metadata": {},
   "outputs": [
    {
     "data": {
      "text/html": [
       "<div>\n",
       "<style scoped>\n",
       "    .dataframe tbody tr th:only-of-type {\n",
       "        vertical-align: middle;\n",
       "    }\n",
       "\n",
       "    .dataframe tbody tr th {\n",
       "        vertical-align: top;\n",
       "    }\n",
       "\n",
       "    .dataframe thead th {\n",
       "        text-align: right;\n",
       "    }\n",
       "</style>\n",
       "<table border=\"1\" class=\"dataframe\">\n",
       "  <thead>\n",
       "    <tr style=\"text-align: right;\">\n",
       "      <th></th>\n",
       "      <th>Presion</th>\n",
       "      <th>Temperatura</th>\n",
       "      <th>HR</th>\n",
       "      <th>RapViento</th>\n",
       "      <th>O3</th>\n",
       "      <th>CO</th>\n",
       "      <th>PM25</th>\n",
       "      <th>PM10</th>\n",
       "      <th>SO2</th>\n",
       "      <th>DoY</th>\n",
       "      <th>DoW</th>\n",
       "    </tr>\n",
       "  </thead>\n",
       "  <tbody>\n",
       "    <tr>\n",
       "      <th>2018-01-01</th>\n",
       "      <td>969.583333</td>\n",
       "      <td>9.612501</td>\n",
       "      <td>67.875000</td>\n",
       "      <td>4.754167</td>\n",
       "      <td>11.375849</td>\n",
       "      <td>0.796953</td>\n",
       "      <td>11.583333</td>\n",
       "      <td>16.000000</td>\n",
       "      <td>2.342500</td>\n",
       "      <td>1.0</td>\n",
       "      <td>1.0</td>\n",
       "    </tr>\n",
       "    <tr>\n",
       "      <th>2018-01-02</th>\n",
       "      <td>964.333333</td>\n",
       "      <td>12.633333</td>\n",
       "      <td>67.291667</td>\n",
       "      <td>4.462500</td>\n",
       "      <td>11.375849</td>\n",
       "      <td>0.796953</td>\n",
       "      <td>8.875000</td>\n",
       "      <td>12.666667</td>\n",
       "      <td>2.283333</td>\n",
       "      <td>2.0</td>\n",
       "      <td>2.0</td>\n",
       "    </tr>\n",
       "    <tr>\n",
       "      <th>2018-01-03</th>\n",
       "      <td>956.333333</td>\n",
       "      <td>11.683333</td>\n",
       "      <td>64.875000</td>\n",
       "      <td>4.008333</td>\n",
       "      <td>11.375849</td>\n",
       "      <td>0.796953</td>\n",
       "      <td>11.750000</td>\n",
       "      <td>17.041667</td>\n",
       "      <td>2.405000</td>\n",
       "      <td>3.0</td>\n",
       "      <td>3.0</td>\n",
       "    </tr>\n",
       "    <tr>\n",
       "      <th>2018-01-04</th>\n",
       "      <td>956.958333</td>\n",
       "      <td>8.708333</td>\n",
       "      <td>69.166667</td>\n",
       "      <td>3.712500</td>\n",
       "      <td>11.375849</td>\n",
       "      <td>0.796953</td>\n",
       "      <td>15.449413</td>\n",
       "      <td>20.952188</td>\n",
       "      <td>2.277917</td>\n",
       "      <td>4.0</td>\n",
       "      <td>4.0</td>\n",
       "    </tr>\n",
       "    <tr>\n",
       "      <th>2018-01-05</th>\n",
       "      <td>970.916667</td>\n",
       "      <td>10.137500</td>\n",
       "      <td>60.666667</td>\n",
       "      <td>5.525000</td>\n",
       "      <td>11.375849</td>\n",
       "      <td>0.796953</td>\n",
       "      <td>9.833333</td>\n",
       "      <td>17.125000</td>\n",
       "      <td>1.572500</td>\n",
       "      <td>5.0</td>\n",
       "      <td>5.0</td>\n",
       "    </tr>\n",
       "    <tr>\n",
       "      <th>...</th>\n",
       "      <td>...</td>\n",
       "      <td>...</td>\n",
       "      <td>...</td>\n",
       "      <td>...</td>\n",
       "      <td>...</td>\n",
       "      <td>...</td>\n",
       "      <td>...</td>\n",
       "      <td>...</td>\n",
       "      <td>...</td>\n",
       "      <td>...</td>\n",
       "      <td>...</td>\n",
       "    </tr>\n",
       "    <tr>\n",
       "      <th>2022-08-27</th>\n",
       "      <td>981.298417</td>\n",
       "      <td>3.674328</td>\n",
       "      <td>58.290054</td>\n",
       "      <td>4.231699</td>\n",
       "      <td>12.083333</td>\n",
       "      <td>0.773333</td>\n",
       "      <td>37.083333</td>\n",
       "      <td>38.250000</td>\n",
       "      <td>1.594583</td>\n",
       "      <td>239.0</td>\n",
       "      <td>6.0</td>\n",
       "    </tr>\n",
       "    <tr>\n",
       "      <th>2022-08-28</th>\n",
       "      <td>983.387333</td>\n",
       "      <td>4.749944</td>\n",
       "      <td>61.044546</td>\n",
       "      <td>1.321621</td>\n",
       "      <td>10.208333</td>\n",
       "      <td>1.049583</td>\n",
       "      <td>59.291667</td>\n",
       "      <td>60.541667</td>\n",
       "      <td>1.615417</td>\n",
       "      <td>240.0</td>\n",
       "      <td>7.0</td>\n",
       "    </tr>\n",
       "    <tr>\n",
       "      <th>2022-08-29</th>\n",
       "      <td>973.471458</td>\n",
       "      <td>4.198099</td>\n",
       "      <td>59.810979</td>\n",
       "      <td>0.878979</td>\n",
       "      <td>5.083333</td>\n",
       "      <td>1.662083</td>\n",
       "      <td>100.125000</td>\n",
       "      <td>104.375000</td>\n",
       "      <td>2.050417</td>\n",
       "      <td>241.0</td>\n",
       "      <td>1.0</td>\n",
       "    </tr>\n",
       "    <tr>\n",
       "      <th>2022-08-30</th>\n",
       "      <td>972.757625</td>\n",
       "      <td>7.101256</td>\n",
       "      <td>68.694246</td>\n",
       "      <td>1.392455</td>\n",
       "      <td>8.250000</td>\n",
       "      <td>0.639167</td>\n",
       "      <td>27.416667</td>\n",
       "      <td>29.791667</td>\n",
       "      <td>1.762917</td>\n",
       "      <td>242.0</td>\n",
       "      <td>2.0</td>\n",
       "    </tr>\n",
       "    <tr>\n",
       "      <th>2022-08-31</th>\n",
       "      <td>972.673125</td>\n",
       "      <td>6.662520</td>\n",
       "      <td>70.505308</td>\n",
       "      <td>2.661606</td>\n",
       "      <td>10.208333</td>\n",
       "      <td>0.696250</td>\n",
       "      <td>29.958333</td>\n",
       "      <td>33.166667</td>\n",
       "      <td>1.745833</td>\n",
       "      <td>243.0</td>\n",
       "      <td>3.0</td>\n",
       "    </tr>\n",
       "  </tbody>\n",
       "</table>\n",
       "<p>1704 rows × 11 columns</p>\n",
       "</div>"
      ],
      "text/plain": [
       "               Presion  Temperatura         HR  RapViento         O3  \\\n",
       "2018-01-01  969.583333     9.612501  67.875000   4.754167  11.375849   \n",
       "2018-01-02  964.333333    12.633333  67.291667   4.462500  11.375849   \n",
       "2018-01-03  956.333333    11.683333  64.875000   4.008333  11.375849   \n",
       "2018-01-04  956.958333     8.708333  69.166667   3.712500  11.375849   \n",
       "2018-01-05  970.916667    10.137500  60.666667   5.525000  11.375849   \n",
       "...                ...          ...        ...        ...        ...   \n",
       "2022-08-27  981.298417     3.674328  58.290054   4.231699  12.083333   \n",
       "2022-08-28  983.387333     4.749944  61.044546   1.321621  10.208333   \n",
       "2022-08-29  973.471458     4.198099  59.810979   0.878979   5.083333   \n",
       "2022-08-30  972.757625     7.101256  68.694246   1.392455   8.250000   \n",
       "2022-08-31  972.673125     6.662520  70.505308   2.661606  10.208333   \n",
       "\n",
       "                  CO        PM25        PM10       SO2    DoY  DoW  \n",
       "2018-01-01  0.796953   11.583333   16.000000  2.342500    1.0  1.0  \n",
       "2018-01-02  0.796953    8.875000   12.666667  2.283333    2.0  2.0  \n",
       "2018-01-03  0.796953   11.750000   17.041667  2.405000    3.0  3.0  \n",
       "2018-01-04  0.796953   15.449413   20.952188  2.277917    4.0  4.0  \n",
       "2018-01-05  0.796953    9.833333   17.125000  1.572500    5.0  5.0  \n",
       "...              ...         ...         ...       ...    ...  ...  \n",
       "2022-08-27  0.773333   37.083333   38.250000  1.594583  239.0  6.0  \n",
       "2022-08-28  1.049583   59.291667   60.541667  1.615417  240.0  7.0  \n",
       "2022-08-29  1.662083  100.125000  104.375000  2.050417  241.0  1.0  \n",
       "2022-08-30  0.639167   27.416667   29.791667  1.762917  242.0  2.0  \n",
       "2022-08-31  0.696250   29.958333   33.166667  1.745833  243.0  3.0  \n",
       "\n",
       "[1704 rows x 11 columns]"
      ]
     },
     "execution_count": 124,
     "metadata": {},
     "output_type": "execute_result"
    }
   ],
   "source": [
    "df_predictores = c_df_mean\n",
    "df_predictores"
   ]
  },
  {
   "cell_type": "code",
   "execution_count": null,
   "id": "fb88a91d-426c-4b36-8258-eadb40d9cf11",
   "metadata": {},
   "outputs": [],
   "source": [
    "df_target = c_df_mean['PM25']\n",
    "df_target = df_target.shift(-1)"
   ]
  },
  {
   "cell_type": "code",
   "execution_count": null,
   "id": "3d24ac8c-636f-4880-ace2-9d623511146f",
   "metadata": {},
   "outputs": [],
   "source": [
    "df_target.drop(df_target.index[-1], inplace = True)\n",
    "df_predictores.drop(c_df_mean.index[-1], inplace = True)"
   ]
  },
  {
   "cell_type": "code",
   "execution_count": 107,
   "id": "b137ca16-dcba-4904-9ab4-60be7860340c",
   "metadata": {},
   "outputs": [
    {
     "data": {
      "text/plain": [
       "2018-01-01      8.875000\n",
       "2018-01-02     11.750000\n",
       "2018-01-03     15.449413\n",
       "2018-01-04      9.833333\n",
       "2018-01-05      9.916667\n",
       "                 ...    \n",
       "2022-08-26     37.083333\n",
       "2022-08-27     59.291667\n",
       "2022-08-28    100.125000\n",
       "2022-08-29     27.416667\n",
       "2022-08-30     29.958333\n",
       "Freq: D, Name: PM25, Length: 1703, dtype: float64"
      ]
     },
     "execution_count": 107,
     "metadata": {},
     "output_type": "execute_result"
    }
   ],
   "source": [
    "df_target"
   ]
  },
  {
   "cell_type": "code",
   "execution_count": 119,
   "id": "83c27aa9-e5e3-4d8f-803b-3ad0e6238dad",
   "metadata": {},
   "outputs": [],
   "source": [
    "df_ml_predictores = df_predictores.loc['2018':'2021']\n",
    "df_ml_target = df_target.loc['2018':'2021']"
   ]
  },
  {
   "cell_type": "code",
   "execution_count": 120,
   "id": "bcaf40ef-54ab-4a7b-a194-a275fa867441",
   "metadata": {},
   "outputs": [],
   "source": [
    "df_2022_predictores = df_predictores.loc['2022-01-01':'2022-08-30']\n",
    "df_2022_target = df_target.loc['2022-01-01':'2022-08-30']"
   ]
  },
  {
   "cell_type": "markdown",
   "id": "ef02f246-bb0f-49ac-9059-a82830254185",
   "metadata": {},
   "source": [
    "## Entrenamiento y Validación"
   ]
  },
  {
   "cell_type": "code",
   "execution_count": 126,
   "id": "83e07a12-8ca8-4fa1-a141-06cbb2a88b42",
   "metadata": {},
   "outputs": [],
   "source": [
    "X_train, X_test, y_train, y_test = train_test_split(df_ml_predictores, df_ml_target, test_size = 0.30, random_state = 42)"
   ]
  },
  {
   "cell_type": "markdown",
   "id": "65943678-530f-4eb6-bc97-f5986507b87c",
   "metadata": {
    "tags": []
   },
   "source": [
    "# Feed Forward Neural Network"
   ]
  },
  {
   "cell_type": "markdown",
   "id": "983605f3-410c-4c61-b551-8807d06196d1",
   "metadata": {
    "jp-MarkdownHeadingCollapsed": true,
    "tags": []
   },
   "source": [
    "## 1.- Arquitectura"
   ]
  },
  {
   "cell_type": "code",
   "execution_count": 131,
   "id": "dce8bfad-476a-4e8f-981b-504543ccf65d",
   "metadata": {},
   "outputs": [
    {
     "name": "stdout",
     "output_type": "stream",
     "text": [
      "Model: \"sequential\"\n",
      "_________________________________________________________________\n",
      " Layer (type)                Output Shape              Param #   \n",
      "=================================================================\n",
      " dense (Dense)               (1022, 160)               1920      \n",
      "                                                                 \n",
      " dense_1 (Dense)             (1022, 320)               51520     \n",
      "                                                                 \n",
      " dense_2 (Dense)             (1022, 640)               205440    \n",
      "                                                                 \n",
      " dense_3 (Dense)             (1022, 320)               205120    \n",
      "                                                                 \n",
      " dense_4 (Dense)             (1022, 160)               51360     \n",
      "                                                                 \n",
      " dense_5 (Dense)             (1022, 80)                12880     \n",
      "                                                                 \n",
      " dense_6 (Dense)             (1022, 1)                 81        \n",
      "                                                                 \n",
      "=================================================================\n",
      "Total params: 528,321\n",
      "Trainable params: 528,321\n",
      "Non-trainable params: 0\n",
      "_________________________________________________________________\n"
     ]
    },
    {
     "name": "stderr",
     "output_type": "stream",
     "text": [
      "2022-09-21 18:20:46.592344: I tensorflow/stream_executor/cuda/cuda_gpu_executor.cc:980] successful NUMA node read from SysFS had negative value (-1), but there must be at least one NUMA node, so returning NUMA node zero\n",
      "2022-09-21 18:20:46.592861: W tensorflow/stream_executor/platform/default/dso_loader.cc:64] Could not load dynamic library 'libcudart.so.11.0'; dlerror: libcudart.so.11.0: cannot open shared object file: No such file or directory\n",
      "2022-09-21 18:20:46.592991: W tensorflow/stream_executor/platform/default/dso_loader.cc:64] Could not load dynamic library 'libcublas.so.11'; dlerror: libcublas.so.11: cannot open shared object file: No such file or directory\n",
      "2022-09-21 18:20:46.593079: W tensorflow/stream_executor/platform/default/dso_loader.cc:64] Could not load dynamic library 'libcublasLt.so.11'; dlerror: libcublasLt.so.11: cannot open shared object file: No such file or directory\n",
      "2022-09-21 18:20:46.593159: W tensorflow/stream_executor/platform/default/dso_loader.cc:64] Could not load dynamic library 'libcufft.so.10'; dlerror: libcufft.so.10: cannot open shared object file: No such file or directory\n",
      "2022-09-21 18:20:46.593238: W tensorflow/stream_executor/platform/default/dso_loader.cc:64] Could not load dynamic library 'libcurand.so.10'; dlerror: libcurand.so.10: cannot open shared object file: No such file or directory\n",
      "2022-09-21 18:20:46.593316: W tensorflow/stream_executor/platform/default/dso_loader.cc:64] Could not load dynamic library 'libcusolver.so.11'; dlerror: libcusolver.so.11: cannot open shared object file: No such file or directory\n",
      "2022-09-21 18:20:46.593388: W tensorflow/stream_executor/platform/default/dso_loader.cc:64] Could not load dynamic library 'libcusparse.so.11'; dlerror: libcusparse.so.11: cannot open shared object file: No such file or directory\n",
      "2022-09-21 18:20:46.593439: W tensorflow/stream_executor/platform/default/dso_loader.cc:64] Could not load dynamic library 'libcudnn.so.8'; dlerror: libcudnn.so.8: cannot open shared object file: No such file or directory\n",
      "2022-09-21 18:20:46.593452: W tensorflow/core/common_runtime/gpu/gpu_device.cc:1934] Cannot dlopen some GPU libraries. Please make sure the missing libraries mentioned above are installed properly if you would like to use GPU. Follow the guide at https://www.tensorflow.org/install/gpu for how to download and setup the required libraries for your platform.\n",
      "Skipping registering GPU devices...\n",
      "2022-09-21 18:20:46.594657: I tensorflow/core/platform/cpu_feature_guard.cc:193] This TensorFlow binary is optimized with oneAPI Deep Neural Network Library (oneDNN) to use the following CPU instructions in performance-critical operations:  AVX2 FMA\n",
      "To enable them in other operations, rebuild TensorFlow with the appropriate compiler flags.\n"
     ]
    }
   ],
   "source": [
    "model_ffnn = tf.keras.models.Sequential()\n",
    "\n",
    "model_ffnn.add(tf.keras.layers.Dense(160, activation = tf.keras.activations.relu))\n",
    "model_ffnn.add(tf.keras.layers.Dense(320, activation = tf.keras.activations.relu))\n",
    "model_ffnn.add(tf.keras.layers.Dense(640, activation = tf.keras.activations.relu))\n",
    "model_ffnn.add(tf.keras.layers.Dense(320, activation = tf.keras.activations.relu))\n",
    "model_ffnn.add(tf.keras.layers.Dense(160, activation = tf.keras.activations.relu))\n",
    "model_ffnn.add(tf.keras.layers.Dense(80, activation = tf.keras.activations.relu))\n",
    "\n",
    "model_ffnn.add(tf.keras.layers.Dense(1, activation = tf.keras.activations.linear))\n",
    "\n",
    "model_ffnn.compile(optimizer = 'adam',\n",
    "                   loss = 'mean_squared_error',\n",
    "                   metrics = ['mean_absolute_error','mean_squared_error'])\n",
    "\n",
    "input_shape = X_train.shape\n",
    "model_ffnn.build(input_shape)\n",
    "\n",
    "model_ffnn.summary()\n"
   ]
  },
  {
   "cell_type": "markdown",
   "id": "3e4b22e5-45f9-482c-9b9b-f3d80f5db1f2",
   "metadata": {
    "jp-MarkdownHeadingCollapsed": true,
    "tags": []
   },
   "source": [
    "## 2.- Entrenamiento"
   ]
  },
  {
   "cell_type": "code",
   "execution_count": 137,
   "id": "84800861-b67b-4e0c-80ea-3ae78e37a0de",
   "metadata": {},
   "outputs": [
    {
     "name": "stdout",
     "output_type": "stream",
     "text": [
      "Epoch 1/5\n",
      "11/11 [==============================] - 0s 5ms/step - loss: 1034.6599 - mean_absolute_error: 16.8526 - mean_squared_error: 1034.6599\n",
      "Epoch 2/5\n",
      "11/11 [==============================] - 0s 5ms/step - loss: 1009.8449 - mean_absolute_error: 18.7091 - mean_squared_error: 1009.8449\n",
      "Epoch 3/5\n",
      "11/11 [==============================] - 0s 5ms/step - loss: 966.4360 - mean_absolute_error: 16.7634 - mean_squared_error: 966.4360\n",
      "Epoch 4/5\n",
      "11/11 [==============================] - 0s 5ms/step - loss: 964.0419 - mean_absolute_error: 16.8331 - mean_squared_error: 964.0419\n",
      "Epoch 5/5\n",
      "11/11 [==============================] - 0s 4ms/step - loss: 954.3985 - mean_absolute_error: 17.1335 - mean_squared_error: 954.3985\n"
     ]
    },
    {
     "data": {
      "text/plain": [
       "<keras.callbacks.History at 0x7f256079f190>"
      ]
     },
     "execution_count": 137,
     "metadata": {},
     "output_type": "execute_result"
    }
   ],
   "source": [
    "model_ffnn.fit(X_train, y_train, epochs = 5, batch_size = 100)"
   ]
  },
  {
   "cell_type": "code",
   "execution_count": 143,
   "id": "5c0e8664-3d84-4c1c-aedc-d7db9114c14a",
   "metadata": {},
   "outputs": [
    {
     "name": "stdout",
     "output_type": "stream",
     "text": [
      "Epoch 1/10\n",
      "4/4 [==============================] - 0s 8ms/step - loss: 853.2235 - mean_absolute_error: 16.4927 - mean_squared_error: 853.2235\n",
      "Epoch 2/10\n",
      "4/4 [==============================] - 0s 7ms/step - loss: 841.0135 - mean_absolute_error: 16.0296 - mean_squared_error: 841.0135\n",
      "Epoch 3/10\n",
      "4/4 [==============================] - 0s 7ms/step - loss: 845.5329 - mean_absolute_error: 15.9389 - mean_squared_error: 845.5329\n",
      "Epoch 4/10\n",
      "4/4 [==============================] - 0s 7ms/step - loss: 839.3203 - mean_absolute_error: 16.1004 - mean_squared_error: 839.3203\n",
      "Epoch 5/10\n",
      "4/4 [==============================] - 0s 7ms/step - loss: 853.2571 - mean_absolute_error: 16.3451 - mean_squared_error: 853.2571\n",
      "Epoch 6/10\n",
      "4/4 [==============================] - 0s 7ms/step - loss: 832.7991 - mean_absolute_error: 15.9505 - mean_squared_error: 832.7991\n",
      "Epoch 7/10\n",
      "4/4 [==============================] - 0s 8ms/step - loss: 832.6912 - mean_absolute_error: 15.8742 - mean_squared_error: 832.6912\n",
      "Epoch 8/10\n",
      "4/4 [==============================] - 0s 8ms/step - loss: 830.9280 - mean_absolute_error: 16.1161 - mean_squared_error: 830.9280\n",
      "Epoch 9/10\n",
      "4/4 [==============================] - 0s 6ms/step - loss: 829.9309 - mean_absolute_error: 16.1448 - mean_squared_error: 829.9309\n",
      "Epoch 10/10\n",
      "4/4 [==============================] - 0s 8ms/step - loss: 852.2704 - mean_absolute_error: 16.2896 - mean_squared_error: 852.2704\n"
     ]
    },
    {
     "data": {
      "text/plain": [
       "<keras.callbacks.History at 0x7f256076ce50>"
      ]
     },
     "execution_count": 143,
     "metadata": {},
     "output_type": "execute_result"
    }
   ],
   "source": [
    "model_ffnn.fit(X_train, y_train, epochs = 10, batch_size = 300)"
   ]
  },
  {
   "cell_type": "markdown",
   "id": "a2443b38-6efd-4231-a7fb-2696ca96fe3f",
   "metadata": {
    "jp-MarkdownHeadingCollapsed": true,
    "tags": []
   },
   "source": [
    "## 3.- Evaluación"
   ]
  },
  {
   "cell_type": "code",
   "execution_count": 144,
   "id": "4e7d94a0-ef34-4d1a-a7b5-68914f364322",
   "metadata": {},
   "outputs": [
    {
     "name": "stdout",
     "output_type": "stream",
     "text": [
      "14/14 [==============================] - 0s 2ms/step - loss: 1000.0240 - mean_absolute_error: 16.4084 - mean_squared_error: 1000.0240\n"
     ]
    }
   ],
   "source": [
    "loss, mae, mse = model_ffnn.evaluate(X_test,y_test)"
   ]
  },
  {
   "cell_type": "markdown",
   "id": "780832e4-3637-4bf8-8692-6f9da49e03f2",
   "metadata": {
    "jp-MarkdownHeadingCollapsed": true,
    "tags": []
   },
   "source": [
    "## 4.- Predicción"
   ]
  },
  {
   "cell_type": "code",
   "execution_count": 145,
   "id": "a97d3525-69f6-4fd2-9b08-1877ff6c90fe",
   "metadata": {},
   "outputs": [
    {
     "name": "stdout",
     "output_type": "stream",
     "text": [
      "8/8 [==============================] - 0s 2ms/step\n"
     ]
    }
   ],
   "source": [
    "pred_2022_FFNN = model_ffnn.predict(df_2022_predictores)"
   ]
  },
  {
   "cell_type": "markdown",
   "id": "df1713f6-4766-4414-b67f-650a506830b7",
   "metadata": {
    "tags": []
   },
   "source": [
    "# Long-Short Term Memory"
   ]
  },
  {
   "cell_type": "markdown",
   "id": "4042bca7-7d29-4abb-8b4c-2b3cf7dd23aa",
   "metadata": {
    "tags": []
   },
   "source": [
    "## 0.- Preprocesamiento LSTM"
   ]
  },
  {
   "cell_type": "code",
   "execution_count": 146,
   "id": "5b9c7f62-4858-46d8-a3c8-7d1a19b3a003",
   "metadata": {},
   "outputs": [],
   "source": [
    "def rshp_features_lstm(features, n_steps):\n",
    "  ini_batch = features.shape[0]\n",
    "  n_features = features.shape[1]\n",
    "  array_lstm = np.zeros((ini_batch, n_steps, n_features)) \n",
    "  for i in range(n_features):\n",
    "    for j in range(n_steps):\n",
    "      array_lstm[:,j,i] = np.roll(features.iloc[:,i],-j)\n",
    "\n",
    "  array_lstm = np.delete(array_lstm, range(n_steps -1 ), axis = 0)\n",
    "  return array_lstm"
   ]
  },
  {
   "cell_type": "code",
   "execution_count": 159,
   "id": "57a0e825-e30b-4b0e-92e3-dcd120de64d7",
   "metadata": {},
   "outputs": [],
   "source": [
    "#ini_batch = df_ml_predictores.shape[0]\n",
    "#n_features = df_ml_predictores.shape[1]\n",
    "n_steps = 5\n",
    "\n",
    "new_features_n = rshp_features_lstm(df_ml_predictores,n_steps)\n",
    "\n",
    "new_target_n = df_ml_target.drop(df_ml_target.index[0:n_steps-1])\n",
    "\n",
    "X_lstm_2022 = rshp_features_lstm(df_2022_predictores, n_steps)"
   ]
  },
  {
   "cell_type": "code",
   "execution_count": 160,
   "id": "7767a467-6786-4391-8f1d-db9740d08db9",
   "metadata": {},
   "outputs": [],
   "source": [
    "X_train_lstm, X_test_lstm, Y_train_lstm, Y_test_lstm = train_test_split(new_features_n, new_target_n.values, test_size = 0.30, random_state = 42)"
   ]
  },
  {
   "cell_type": "markdown",
   "id": "73e7c528-023c-4391-84a3-69189fea44cb",
   "metadata": {
    "jp-MarkdownHeadingCollapsed": true,
    "tags": []
   },
   "source": [
    "## 1.- Arquitectura"
   ]
  },
  {
   "cell_type": "code",
   "execution_count": 151,
   "id": "7995ecb3-73bd-4480-ae7d-05a9e1e08508",
   "metadata": {},
   "outputs": [
    {
     "name": "stdout",
     "output_type": "stream",
     "text": [
      "Model: \"sequential_1\"\n",
      "_________________________________________________________________\n",
      " Layer (type)                Output Shape              Param #   \n",
      "=================================================================\n",
      " lstm (LSTM)                 (None, 50)                12400     \n",
      "                                                                 \n",
      " dense_7 (Dense)             (None, 1)                 51        \n",
      "                                                                 \n",
      "=================================================================\n",
      "Total params: 12,451\n",
      "Trainable params: 12,451\n",
      "Non-trainable params: 0\n",
      "_________________________________________________________________\n"
     ]
    }
   ],
   "source": [
    "model_LSTM1 = tf.keras.models.Sequential()\n",
    "\n",
    "model_LSTM1.add(tf.keras.layers.LSTM(50,input_shape=(X_train_lstm.shape[1],X_train_lstm.shape[2]), activation = tf.keras.activations.relu))\n",
    "\n",
    "\n",
    "model_LSTM1.add(tf.keras.layers.Dense(1, activation = tf.keras.activations.linear))\n",
    "\n",
    "model_LSTM1.compile(optimizer = 'adam',\n",
    "                   loss = 'mean_squared_error',\n",
    "                   metrics = ['mean_absolute_error','mean_squared_error'])\n",
    "\n",
    "#input_shape = X_train_lstm.shape[1],X_train_lstm.shape[2])\n",
    "#model_LSTM1.build((2, 9))\n",
    "\n",
    "model_LSTM1.summary()"
   ]
  },
  {
   "cell_type": "markdown",
   "id": "7ebf3028-ba2c-4246-8699-8988866c88e5",
   "metadata": {
    "jp-MarkdownHeadingCollapsed": true,
    "tags": []
   },
   "source": [
    "## 2.- Entrenamiento"
   ]
  },
  {
   "cell_type": "code",
   "execution_count": 152,
   "id": "af1c8d0b-4859-4b03-824d-813b09db4564",
   "metadata": {},
   "outputs": [
    {
     "name": "stdout",
     "output_type": "stream",
     "text": [
      "Epoch 1/5\n",
      "35/35 [==============================] - 1s 3ms/step - loss: 7489.4873 - mean_absolute_error: 62.6499 - mean_squared_error: 7489.4873\n",
      "Epoch 2/5\n",
      "35/35 [==============================] - 0s 2ms/step - loss: 2193.0515 - mean_absolute_error: 28.5883 - mean_squared_error: 2193.0515\n",
      "Epoch 3/5\n",
      "35/35 [==============================] - 0s 2ms/step - loss: 1108.1112 - mean_absolute_error: 21.1663 - mean_squared_error: 1108.1111\n",
      "Epoch 4/5\n",
      "35/35 [==============================] - 0s 2ms/step - loss: 545.2724 - mean_absolute_error: 12.0328 - mean_squared_error: 545.2724\n",
      "Epoch 5/5\n",
      "35/35 [==============================] - 0s 2ms/step - loss: 352.4109 - mean_absolute_error: 10.9611 - mean_squared_error: 352.4109\n"
     ]
    },
    {
     "data": {
      "text/plain": [
       "<keras.callbacks.History at 0x7f2560512470>"
      ]
     },
     "execution_count": 152,
     "metadata": {},
     "output_type": "execute_result"
    }
   ],
   "source": [
    "model_LSTM1.fit(X_train_lstm, Y_train_lstm, epochs = 5, batch_size = 30)"
   ]
  },
  {
   "cell_type": "markdown",
   "id": "a6c55180-dc87-400e-8ffc-579a6408eea9",
   "metadata": {
    "jp-MarkdownHeadingCollapsed": true,
    "tags": []
   },
   "source": [
    "## 3.- Evaluación"
   ]
  },
  {
   "cell_type": "code",
   "execution_count": 153,
   "id": "ef5afdc5-04fc-42c9-ad12-c85682f503e9",
   "metadata": {},
   "outputs": [
    {
     "name": "stdout",
     "output_type": "stream",
     "text": [
      "14/14 [==============================] - 0s 1ms/step - loss: 176.1623 - mean_absolute_error: 9.6311 - mean_squared_error: 176.1623\n"
     ]
    }
   ],
   "source": [
    "loss, mae, mse = model_LSTM1.evaluate(X_test_lstm,Y_test_lstm)"
   ]
  },
  {
   "cell_type": "markdown",
   "id": "f6d5f939-6c0a-4132-82e1-5b239e3090a5",
   "metadata": {},
   "source": [
    "## 4.- Predicción"
   ]
  },
  {
   "cell_type": "code",
   "execution_count": null,
   "id": "371676c6-e3b2-4832-83ed-cd10facf5071",
   "metadata": {},
   "outputs": [],
   "source": [
    "pred_2022_LSTM = model_LSTM1.predict(X_lstm_p)"
   ]
  }
 ],
 "metadata": {
  "kernelspec": {
   "display_name": "Python 3 (ipykernel)",
   "language": "python",
   "name": "python3"
  },
  "language_info": {
   "codemirror_mode": {
    "name": "ipython",
    "version": 3
   },
   "file_extension": ".py",
   "mimetype": "text/x-python",
   "name": "python",
   "nbconvert_exporter": "python",
   "pygments_lexer": "ipython3",
   "version": "3.10.4"
  }
 },
 "nbformat": 4,
 "nbformat_minor": 5
}
