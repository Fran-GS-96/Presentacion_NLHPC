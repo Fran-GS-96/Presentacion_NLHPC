{
 "cells": [
  {
   "cell_type": "code",
   "execution_count": 1,
   "id": "138aa8da-748c-4184-afdb-a294abfe74c8",
   "metadata": {},
   "outputs": [],
   "source": [
    "import os\n",
    "import pandas as pd\n",
    "from datetime import datetime"
   ]
  },
  {
   "cell_type": "code",
   "execution_count": 2,
   "id": "8831cee0-104f-48e7-b8e3-aafa36d15a09",
   "metadata": {},
   "outputs": [],
   "source": [
    "path = os.getcwd()"
   ]
  },
  {
   "cell_type": "code",
   "execution_count": 3,
   "id": "4a8fa7f0-2782-445c-a353-62364c50a75a",
   "metadata": {},
   "outputs": [],
   "source": [
    "csv_files_m = []\n",
    "for files in os.listdir(os.path.join(path,'Datos','Meteorologicos')):\n",
    "    if files[-3:] == 'csv':\n",
    "        csv_files_m.append(files)\n",
    "    else:\n",
    "        pass\n",
    "csv_files_c = []\n",
    "for files in os.listdir(os.path.join(path,'Datos','Contaminantes')):\n",
    "    if files[-3:] == 'csv':\n",
    "        csv_files_c.append(files)\n",
    "    else:\n",
    "        pass"
   ]
  },
  {
   "cell_type": "code",
   "execution_count": 4,
   "id": "1603aae3-d1f2-410b-a52e-566e8b481c72",
   "metadata": {},
   "outputs": [],
   "source": [
    "met_data = []\n",
    "for file in csv_files_m:\n",
    "    file = str(file)\n",
    "    aux = pd.read_csv(os.path.join('Datos','Meteorologicos',file),sep = ';',usecols = [0,1,2])\n",
    "\n",
    "    s_date = datetime.strptime(str(aux.iloc[0,0])+' '+str(aux.iloc[0,1]).replace(\"00\",\"\"), '%y%m%d %H')\n",
    "    e_date = datetime.strptime(str(aux.iloc[-1,0])+' '+str(aux.iloc[-1,1]).replace(\"00\",\"\"), '%y%m%d %H')\n",
    "\n",
    "    index = pd.date_range(start = s_date, end = e_date, freq = 'H')\n",
    "\n",
    "    aux = aux.set_index(index)\n",
    "    aux = aux.drop(columns = aux.columns[0:2])\n",
    "    aux.columns = [file[4:-4]]\n",
    "\n",
    "    met_data.append(aux)\n",
    "    \n",
    "cont_data = []\n",
    "for file in csv_files_c:\n",
    "    file = str(file)\n",
    "    aux = pd.read_csv(os.path.join('Datos','Contaminantes',file),sep = ';',usecols = [0,1,2,3])\n",
    "    s_date = datetime.strptime(str(aux.iloc[0,0])+' '+str(aux.iloc[0,1]).replace(\"00\",\"\"), '%y%m%d %H')\n",
    "    e_date = datetime.strptime(str(aux.iloc[-1,0])+' '+str(aux.iloc[-1,1]).replace(\"00\",\"\"), '%y%m%d %H')\n",
    "\n",
    "    index = pd.date_range(start = s_date, end = e_date, freq = 'H')\n",
    "\n",
    "    aux = aux.set_index(index)\n",
    "    aux = aux.drop(columns = aux.columns[0:2])\n",
    "\n",
    "    aux_isna = aux.isna()\n",
    "    for i in range(len(aux)):\n",
    "        if aux_isna.iloc[i,0] == True and aux_isna.iloc[i,1] == False:\n",
    "            aux.iloc[i,0] = aux.iloc[i,1]\n",
    "    aux = aux.drop(columns = aux.columns[1])\n",
    "    aux.columns = [file[4:-4]]\n",
    "\n",
    "    cont_data.append(aux)"
   ]
  },
  {
   "cell_type": "code",
   "execution_count": 5,
   "id": "1fcd9a32-f1cd-4c52-9ef0-e721d9a251cc",
   "metadata": {},
   "outputs": [],
   "source": [
    "for i, data in enumerate(met_data):\n",
    "    met_data[i] = data.loc['2018':'2022-08-31']\n",
    "for i, data in enumerate(cont_data):    \n",
    "    cont_data[i] = data.loc['2018':'2022-08-31']"
   ]
  },
  {
   "cell_type": "code",
   "execution_count": 6,
   "id": "b9edd234-7391-40a3-a9b3-bf021bdebb64",
   "metadata": {},
   "outputs": [],
   "source": [
    "met_df = pd.concat(met_data,axis=1)\n",
    "cont_df = pd.concat(cont_data,axis=1)"
   ]
  },
  {
   "cell_type": "code",
   "execution_count": 7,
   "id": "8ba8c472-6f81-40b0-8085-049384a2ba93",
   "metadata": {},
   "outputs": [],
   "source": [
    "data_df = pd.concat([met_df, cont_df], axis = 1) "
   ]
  },
  {
   "cell_type": "code",
   "execution_count": 8,
   "id": "8cc7e59c-b2bd-4aa1-a87e-597da7fcce1b",
   "metadata": {},
   "outputs": [
    {
     "data": {
      "text/plain": [
       "Index(['Presion', 'Temperatura', 'HR', 'RapViento', 'O3', 'CO', 'PM25', 'PM10',\n",
       "       'SO2'],\n",
       "      dtype='object')"
      ]
     },
     "execution_count": 8,
     "metadata": {},
     "output_type": "execute_result"
    }
   ],
   "source": [
    "data_df.columns"
   ]
  },
  {
   "cell_type": "code",
   "execution_count": 9,
   "id": "a2ee3b69-bb8d-4dc6-891e-b9c3360d4d26",
   "metadata": {},
   "outputs": [],
   "source": [
    "for j, col in enumerate(data_df.columns):\n",
    "    for i,value in enumerate(data_df.iloc[:,j].values):\n",
    "        aux = str(value)\n",
    "        data_df.iloc[i,j] = aux.replace(\",\",\".\")\n",
    "    \n",
    "    data_df[col] = pd.to_numeric(data_df[col],errors='coerce')"
   ]
  },
  {
   "cell_type": "code",
   "execution_count": 15,
   "id": "18363e69-e9c5-467c-8bae-2738606d1e80",
   "metadata": {},
   "outputs": [],
   "source": [
    "doy = [int(ind.strftime('%j')) for ind in data_df.index]\n",
    "dow = [int(ind.strftime('%w')) for ind in data_df.index]\n",
    "\n",
    "for i,value in enumerate(dow):\n",
    "    if value == 0:\n",
    "        dow[i] = 7"
   ]
  },
  {
   "cell_type": "code",
   "execution_count": 16,
   "id": "b6c2f79d-f35d-4d10-b21c-17d5689a445e",
   "metadata": {},
   "outputs": [],
   "source": [
    "data_df['DoY'] = doy\n",
    "data_df['DoW'] = dow"
   ]
  },
  {
   "cell_type": "code",
   "execution_count": 17,
   "id": "988f2eb8-ceab-4e70-94f5-6d8cc4bab693",
   "metadata": {},
   "outputs": [],
   "source": [
    "data_df.to_csv(os.path.join(path,'Datos','Data_Coyhaique.csv'))"
   ]
  }
 ],
 "metadata": {
  "kernelspec": {
   "display_name": "Python 3 (ipykernel)",
   "language": "python",
   "name": "python3"
  },
  "language_info": {
   "codemirror_mode": {
    "name": "ipython",
    "version": 3
   },
   "file_extension": ".py",
   "mimetype": "text/x-python",
   "name": "python",
   "nbconvert_exporter": "python",
   "pygments_lexer": "ipython3",
   "version": "3.10.4"
  }
 },
 "nbformat": 4,
 "nbformat_minor": 5
}
